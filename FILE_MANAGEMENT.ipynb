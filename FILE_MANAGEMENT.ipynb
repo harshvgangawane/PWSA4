{
  "nbformat": 4,
  "nbformat_minor": 0,
  "metadata": {
    "colab": {
      "provenance": [],
      "authorship_tag": "ABX9TyMZYfWf69uJogP7V59EJ0m3",
      "include_colab_link": true
    },
    "kernelspec": {
      "name": "python3",
      "display_name": "Python 3"
    },
    "language_info": {
      "name": "python"
    }
  },
  "cells": [
    {
      "cell_type": "markdown",
      "metadata": {
        "id": "view-in-github",
        "colab_type": "text"
      },
      "source": [
        "<a href=\"https://colab.research.google.com/github/harshvgangawane/PWSA4/blob/main/FILE_MANAGEMENT.ipynb\" target=\"_parent\"><img src=\"https://colab.research.google.com/assets/colab-badge.svg\" alt=\"Open In Colab\"/></a>"
      ]
    },
    {
      "cell_type": "code",
      "source": [
        "import threading\n",
        "import time\n",
        "\n",
        "t1 = []\n",
        "lock = threading.Lock()\n",
        "\n",
        "def add():\n",
        "    for i in [1, 4, 7, 8]:\n",
        "\n",
        "        with lock:\n",
        "            t1.append(i)\n",
        "            print(f\"Added {i} to the list.\")\n",
        "\n",
        "def remove():\n",
        "    for i in [1,4,7,8]:\n",
        "\n",
        "        with lock:\n",
        "            if t1:\n",
        "                number = t1.pop(0)\n",
        "                print(f\"Removed {number} from the list.\")\n",
        "\n",
        "\n",
        "adder_t1 = threading.Thread(target=add)\n",
        "remover_t2 = threading.Thread(target=remove)\n",
        "\n",
        "adder_t1.start()\n",
        "remover_t2.start()\n",
        "\n",
        "adder_t1.join()\n",
        "remover_t2.join()\n",
        "\n",
        "print(\"All numbers added and removed from the list.\")\n"
      ],
      "metadata": {
        "colab": {
          "base_uri": "https://localhost:8080/"
        },
        "id": "5aIHqiWSA90x",
        "outputId": "318b3a2f-9b6e-4edb-b21c-066c9da8df77"
      },
      "execution_count": 52,
      "outputs": [
        {
          "output_type": "stream",
          "name": "stdout",
          "text": [
            "Added 1 to the list.\n",
            "Added 4 to the list.\n",
            "Added 7 to the list.\n",
            "Added 8 to the list.\n",
            "Removed 1 from the list.\n",
            "Removed 4 from the list.\n",
            "Removed 7 from the list.\n",
            "Removed 8 from the list.\n",
            "All numbers added and removed from the list.\n"
          ]
        }
      ]
    },
    {
      "cell_type": "code",
      "source": [
        "import threading\n",
        "import concurrent.futures\n",
        "def fact(n):\n",
        "  if n==0:\n",
        "    return 1\n",
        "  else:\n",
        "    return n*fact(n-1)\n",
        "with concurrent.futures.ThreadPoolExecutor() as executor:\n",
        "    n = [4,5,6,7,8]\n",
        "    f=executor.map(fact,n)\n",
        "for n,f in zip(n,f):\n",
        "  print(\"The Factorial of {} is {}\".format(n,f))"
      ],
      "metadata": {
        "colab": {
          "base_uri": "https://localhost:8080/"
        },
        "id": "Uaj724N_A9sy",
        "outputId": "fd28f596-b97b-42d0-813a-413dfc26935f"
      },
      "execution_count": 21,
      "outputs": [
        {
          "output_type": "stream",
          "name": "stdout",
          "text": [
            "The Factorial of 4 is 24\n",
            "The Factorial of 5 is 120\n",
            "The Factorial of 6 is 720\n",
            "The Factorial of 7 is 5040\n",
            "The Factorial of 8 is 40320\n"
          ]
        }
      ]
    },
    {
      "cell_type": "code",
      "source": [
        "import multiprocessing\n",
        "import time\n",
        "\n",
        "start = time.perf_counter()\n",
        "def square(n):\n",
        "  square =n*n\n",
        "  print(f\"The Square of {n} is {square}\")\n",
        "\n",
        "numbers=[1,2,3,4,5,6,7,8,9,10]\n",
        "\n",
        "with multiprocessing.Pool() as pool:\n",
        "    pool.map(square, numbers)\n",
        "\n",
        "end = time.perf_counter()\n",
        "\n",
        "print(f\"The program finished in {round(end-start, 2)} seconds\")"
      ],
      "metadata": {
        "colab": {
          "base_uri": "https://localhost:8080/"
        },
        "id": "xqzOfdbgA9iy",
        "outputId": "d2b6fad0-1666-43cb-e635-4280695ea260"
      },
      "execution_count": 47,
      "outputs": [
        {
          "output_type": "stream",
          "name": "stdout",
          "text": [
            "The Square of 1 is 1The Square of 3 is 9\n",
            "The Square of 2 is 4\n",
            "The Square of 5 is 25\n",
            "\n",
            "The Square of 4 is 16The Square of 6 is 36\n",
            "The Square of 7 is 49The Square of 9 is 81\n",
            "\n",
            "The Square of 10 is 100\n",
            "\n",
            "The Square of 8 is 64\n",
            "The program finished in 0.1 seconds\n"
          ]
        }
      ]
    },
    {
      "cell_type": "code",
      "source": [
        "for i in range(1,90):\n",
        "  print(i)"
      ],
      "metadata": {
        "colab": {
          "base_uri": "https://localhost:8080/"
        },
        "id": "V5_Ng-TTC2uP",
        "outputId": "a4f9fba8-a145-404e-e5fd-3dcc0fca1aca"
      },
      "execution_count": 36,
      "outputs": [
        {
          "output_type": "stream",
          "name": "stdout",
          "text": [
            "1\n",
            "2\n",
            "3\n",
            "4\n",
            "5\n",
            "6\n",
            "7\n",
            "8\n",
            "9\n",
            "10\n",
            "11\n",
            "12\n",
            "13\n",
            "14\n",
            "15\n",
            "16\n",
            "17\n",
            "18\n",
            "19\n",
            "20\n",
            "21\n",
            "22\n",
            "23\n",
            "24\n",
            "25\n",
            "26\n",
            "27\n",
            "28\n",
            "29\n",
            "30\n",
            "31\n",
            "32\n",
            "33\n",
            "34\n",
            "35\n",
            "36\n",
            "37\n",
            "38\n",
            "39\n",
            "40\n",
            "41\n",
            "42\n",
            "43\n",
            "44\n",
            "45\n",
            "46\n",
            "47\n",
            "48\n",
            "49\n",
            "50\n",
            "51\n",
            "52\n",
            "53\n",
            "54\n",
            "55\n",
            "56\n",
            "57\n",
            "58\n",
            "59\n",
            "60\n",
            "61\n",
            "62\n",
            "63\n",
            "64\n",
            "65\n",
            "66\n",
            "67\n",
            "68\n",
            "69\n",
            "70\n",
            "71\n",
            "72\n",
            "73\n",
            "74\n",
            "75\n",
            "76\n",
            "77\n",
            "78\n",
            "79\n",
            "80\n",
            "81\n",
            "82\n",
            "83\n",
            "84\n",
            "85\n",
            "86\n",
            "87\n",
            "88\n",
            "89\n"
          ]
        }
      ]
    },
    {
      "cell_type": "code",
      "source": [],
      "metadata": {
        "id": "FbfN7NTvM1eF"
      },
      "execution_count": null,
      "outputs": []
    }
  ]
}