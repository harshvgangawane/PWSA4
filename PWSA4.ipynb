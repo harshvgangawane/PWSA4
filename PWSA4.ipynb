{
  "nbformat": 4,
  "nbformat_minor": 0,
  "metadata": {
    "colab": {
      "provenance": [],
      "authorship_tag": "ABX9TyP1bVN71mT+S42tqryihdFv",
      "include_colab_link": true
    },
    "kernelspec": {
      "name": "python3",
      "display_name": "Python 3"
    },
    "language_info": {
      "name": "python"
    }
  },
  "cells": [
    {
      "cell_type": "markdown",
      "metadata": {
        "id": "view-in-github",
        "colab_type": "text"
      },
      "source": [
        "<a href=\"https://colab.research.google.com/github/harshvgangawane/PWSA4/blob/main/PWSA4.ipynb\" target=\"_parent\"><img src=\"https://colab.research.google.com/assets/colab-badge.svg\" alt=\"Open In Colab\"/></a>"
      ]
    },
    {
      "cell_type": "code",
      "execution_count": null,
      "metadata": {
        "id": "gPBMOtntF31c"
      },
      "outputs": [],
      "source": [
        "#Five key concepts are namely inheritance,abstraction,polymorphism,encapsulation,class methods\n",
        "class Father():\n",
        "  def property(self):\n",
        "    print(\"This is fathers property\")\n",
        "class Son(Father):\n",
        "  def job(self):\n",
        "    print(\"This is Son's Job\")"
      ]
    },
    {
      "cell_type": "code",
      "source": [
        "b=Son()#Creating object of Son class\n",
        "b.job()#Calling method in Son class\n",
        "b.property()#Calling method in Father class\n",
        "#Son can have access to father's class"
      ],
      "metadata": {
        "colab": {
          "base_uri": "https://localhost:8080/"
        },
        "id": "gCRebexGHhNj",
        "outputId": "eea626a7-a7c9-474f-b25a-4b8700703806"
      },
      "execution_count": null,
      "outputs": [
        {
          "output_type": "stream",
          "name": "stdout",
          "text": [
            "This is Son's Job\n",
            "This is fathers property\n"
          ]
        }
      ]
    },
    {
      "cell_type": "code",
      "source": [
        "a=Father()#Creating object of Father class\n",
        "a.property()#Calling method in Father class"
      ],
      "metadata": {
        "colab": {
          "base_uri": "https://localhost:8080/"
        },
        "id": "nbHSzf5HHvVx",
        "outputId": "3aeeefb7-b546-4963-c5a3-340d6eae13a0"
      },
      "execution_count": null,
      "outputs": [
        {
          "output_type": "stream",
          "name": "stdout",
          "text": [
            "This is fathers property\n"
          ]
        }
      ]
    },
    {
      "cell_type": "code",
      "source": [
        "a.job()#Father class can't have access to Son method\n"
      ],
      "metadata": {
        "colab": {
          "base_uri": "https://localhost:8080/",
          "height": 141
        },
        "id": "XRFs5KHUIJMj",
        "outputId": "c50fdaad-f0dc-451d-d24b-585d603668ae"
      },
      "execution_count": null,
      "outputs": [
        {
          "output_type": "error",
          "ename": "AttributeError",
          "evalue": "'Father' object has no attribute 'job'",
          "traceback": [
            "\u001b[0;31m---------------------------------------------------------------------------\u001b[0m",
            "\u001b[0;31mAttributeError\u001b[0m                            Traceback (most recent call last)",
            "\u001b[0;32m<ipython-input-5-e855aa9f5e19>\u001b[0m in \u001b[0;36m<cell line: 1>\u001b[0;34m()\u001b[0m\n\u001b[0;32m----> 1\u001b[0;31m \u001b[0ma\u001b[0m\u001b[0;34m.\u001b[0m\u001b[0mjob\u001b[0m\u001b[0;34m(\u001b[0m\u001b[0;34m)\u001b[0m\u001b[0;34m\u001b[0m\u001b[0;34m\u001b[0m\u001b[0m\n\u001b[0m",
            "\u001b[0;31mAttributeError\u001b[0m: 'Father' object has no attribute 'job'"
          ]
        }
      ]
    },
    {
      "cell_type": "code",
      "source": [
        "#Abstraction is basically hiding complex implementation in oops's python\n",
        "#Abstraction can be achieved by using abstract class i.e import abc\n",
        "import abc\n",
        "class Shape:\n",
        "    @abc.abstractmethod\n",
        "    def area(self):\n",
        "        pass\n",
        "class Rectangle(Shape):\n",
        "    def area(self):\n",
        "        return \"Area of rectange is len*breadth\"\n",
        "class Circle(Shape):\n",
        "    def area(self):\n",
        "        return \"area of circle is pi r **2\""
      ],
      "metadata": {
        "id": "2grEOgTKITRM"
      },
      "execution_count": null,
      "outputs": []
    },
    {
      "cell_type": "code",
      "source": [
        "a=Circle()\n",
        "a.area()"
      ],
      "metadata": {
        "colab": {
          "base_uri": "https://localhost:8080/",
          "height": 36
        },
        "id": "GJ4w-gWvJZZM",
        "outputId": "1fa79e68-9125-40ad-e564-9eb519c96f12"
      },
      "execution_count": null,
      "outputs": [
        {
          "output_type": "execute_result",
          "data": {
            "text/plain": [
              "'area of circle is pi r **2'"
            ],
            "application/vnd.google.colaboratory.intrinsic+json": {
              "type": "string"
            }
          },
          "metadata": {},
          "execution_count": 9
        }
      ]
    },
    {
      "cell_type": "code",
      "source": [
        "#Polym means many morph means states means object/method taking many forms\n",
        "#Method overloading\n",
        "class Teacher():\n",
        "  def info(self):\n",
        "    print(\"teacher is giving information\")\n",
        "class Student():\n",
        "  def info(self):\n",
        "    print(\"student is taking information\")"
      ],
      "metadata": {
        "id": "NS63l67YJi62"
      },
      "execution_count": null,
      "outputs": []
    },
    {
      "cell_type": "code",
      "source": [
        "s=Teacher()\n",
        "s.info()\n"
      ],
      "metadata": {
        "colab": {
          "base_uri": "https://localhost:8080/"
        },
        "id": "AhcyfChMKvIU",
        "outputId": "f5cb089e-c3f8-44b8-9d86-5a553ba7805c"
      },
      "execution_count": null,
      "outputs": [
        {
          "output_type": "stream",
          "name": "stdout",
          "text": [
            "teacher is giving information\n"
          ]
        }
      ]
    },
    {
      "cell_type": "code",
      "source": [
        "#Method Overriding\n",
        "class Animal:\n",
        "    def sound(self):\n",
        "        print(\"Animal Sound\")\n",
        "class Cat(Animal):\n",
        "    def sound(self):\n",
        "        print(\"cat meows\")"
      ],
      "metadata": {
        "id": "72g1cRN4LLrp"
      },
      "execution_count": null,
      "outputs": []
    },
    {
      "cell_type": "code",
      "source": [
        "a=Cat()\n",
        "a.sound()"
      ],
      "metadata": {
        "colab": {
          "base_uri": "https://localhost:8080/"
        },
        "id": "A0mMODC3Lkzc",
        "outputId": "bc9001a0-b942-4f52-fd47-c73201413e55"
      },
      "execution_count": null,
      "outputs": [
        {
          "output_type": "stream",
          "name": "stdout",
          "text": [
            "cat meows\n"
          ]
        }
      ]
    },
    {
      "cell_type": "code",
      "source": [
        "#Encapsulation means data hiding\n",
        "#Access modifiers such as public,private,protected\n",
        "#public>>accessible from anywhere from outside/inside of class\n",
        "class Student:\n",
        "    def __init__(self, name, degree):\n",
        "        self.name = name\n",
        "        self.degree = degree"
      ],
      "metadata": {
        "id": "IYUv29mhLs0C"
      },
      "execution_count": null,
      "outputs": []
    },
    {
      "cell_type": "code",
      "source": [
        "s=Student(\"Ali\",\"BSCS\")\n",
        "s.name\n",
        "\n"
      ],
      "metadata": {
        "colab": {
          "base_uri": "https://localhost:8080/",
          "height": 36
        },
        "id": "e4_79cxxMhd0",
        "outputId": "24c05747-a5da-4dd8-9ba7-9c06b3d088e7"
      },
      "execution_count": null,
      "outputs": [
        {
          "output_type": "execute_result",
          "data": {
            "text/plain": [
              "'Ali'"
            ],
            "application/vnd.google.colaboratory.intrinsic+json": {
              "type": "string"
            }
          },
          "metadata": {},
          "execution_count": 18
        }
      ]
    },
    {
      "cell_type": "code",
      "source": [
        "s.degree"
      ],
      "metadata": {
        "colab": {
          "base_uri": "https://localhost:8080/",
          "height": 36
        },
        "id": "dvv7J1KsMve6",
        "outputId": "4a48bbc8-acf3-48d0-b7f4-40bb399a8177"
      },
      "execution_count": null,
      "outputs": [
        {
          "output_type": "execute_result",
          "data": {
            "text/plain": [
              "'BSCS'"
            ],
            "application/vnd.google.colaboratory.intrinsic+json": {
              "type": "string"
            }
          },
          "metadata": {},
          "execution_count": 19
        }
      ]
    },
    {
      "cell_type": "code",
      "source": [
        "#private >> the data and method is only accessible within its class, use __ to make private\n",
        "class Student:\n",
        "    def __init__(self, name, degree):\n",
        "        self.name = name\n",
        "        self.__degree = degree #private data\n",
        "\n",
        "    def show(self):\n",
        "        #accessing the private data member\n",
        "        print(\"name\", self.name, 'degree', self.__degree)"
      ],
      "metadata": {
        "id": "ckuATLOsMzf6"
      },
      "execution_count": null,
      "outputs": []
    },
    {
      "cell_type": "code",
      "source": [
        "s=Student(\"Ali\",\"BSCS\")\n",
        "s.show()"
      ],
      "metadata": {
        "colab": {
          "base_uri": "https://localhost:8080/"
        },
        "id": "bPh4g_fCNIoP",
        "outputId": "5a7ebda3-ff6c-4d55-a13b-daf8e69eed96"
      },
      "execution_count": null,
      "outputs": [
        {
          "output_type": "stream",
          "name": "stdout",
          "text": [
            "name Ali degree BSCS\n"
          ]
        }
      ]
    },
    {
      "cell_type": "code",
      "source": [
        "s.degree"
      ],
      "metadata": {
        "colab": {
          "base_uri": "https://localhost:8080/",
          "height": 141
        },
        "id": "hp71o7H3NIk1",
        "outputId": "c09b67ec-9fc8-43b0-ae48-07889828b8dc"
      },
      "execution_count": null,
      "outputs": [
        {
          "output_type": "error",
          "ename": "AttributeError",
          "evalue": "'Student' object has no attribute 'degree'",
          "traceback": [
            "\u001b[0;31m---------------------------------------------------------------------------\u001b[0m",
            "\u001b[0;31mAttributeError\u001b[0m                            Traceback (most recent call last)",
            "\u001b[0;32m<ipython-input-25-23ed758f4dd7>\u001b[0m in \u001b[0;36m<cell line: 1>\u001b[0;34m()\u001b[0m\n\u001b[0;32m----> 1\u001b[0;31m \u001b[0ms\u001b[0m\u001b[0;34m.\u001b[0m\u001b[0mdegree\u001b[0m\u001b[0;34m\u001b[0m\u001b[0;34m\u001b[0m\u001b[0m\n\u001b[0m",
            "\u001b[0;31mAttributeError\u001b[0m: 'Student' object has no attribute 'degree'"
          ]
        }
      ]
    },
    {
      "cell_type": "code",
      "source": [
        "class Car:\n",
        "    def __init__(self, year, make, speed, model):\n",
        "        self.__year = year\n",
        "        self.__make = make\n",
        "        self.__speed = speed\n",
        "        self.__model = model\n",
        "    def set_speed(self, speed):\n",
        "        self.__speed = 0 if speed < 0 else speed\n",
        "    def get_speed(self):\n",
        "        return self.__speed"
      ],
      "metadata": {
        "id": "wzyA__nxNd7I"
      },
      "execution_count": null,
      "outputs": []
    },
    {
      "cell_type": "code",
      "source": [
        "c1 = Car(\"1995\", \"Maruti\", \"80\", \"Brezza\")\n",
        "c1.get_speed()"
      ],
      "metadata": {
        "colab": {
          "base_uri": "https://localhost:8080/",
          "height": 36
        },
        "id": "Gj2_nw2PNlnP",
        "outputId": "840cdaf2-4895-4c85-d03d-b8c409b15fd4"
      },
      "execution_count": null,
      "outputs": [
        {
          "output_type": "execute_result",
          "data": {
            "text/plain": [
              "'80'"
            ],
            "application/vnd.google.colaboratory.intrinsic+json": {
              "type": "string"
            }
          },
          "metadata": {},
          "execution_count": 27
        }
      ]
    },
    {
      "cell_type": "code",
      "source": [
        "#class method can modify class state applicable to all the instances of the class\n",
        "class Student:\n",
        "\n",
        "    total_students = 0\n",
        "    def __init__(self, name):\n",
        "        self.name = name\n",
        "        Student.total_students = Student.total_students+1 #total_student is the class variable associated with all the instances\n",
        "\n",
        "    @classmethod\n",
        "    def get_total_students(cls):\n",
        "        return cls.total_students"
      ],
      "metadata": {
        "id": "Difm8J60No8p"
      },
      "execution_count": null,
      "outputs": []
    },
    {
      "cell_type": "code",
      "source": [
        "s1=Student(\"nirmaan\")\n",
        "s1.name"
      ],
      "metadata": {
        "colab": {
          "base_uri": "https://localhost:8080/",
          "height": 36
        },
        "id": "n4W2_VKVN1HZ",
        "outputId": "dc0a42a3-c723-456f-f6d5-b531f8cd316a"
      },
      "execution_count": null,
      "outputs": [
        {
          "output_type": "execute_result",
          "data": {
            "text/plain": [
              "'nirmaan'"
            ],
            "application/vnd.google.colaboratory.intrinsic+json": {
              "type": "string"
            }
          },
          "metadata": {},
          "execution_count": 29
        }
      ]
    },
    {
      "cell_type": "code",
      "source": [
        "Student.total_students"
      ],
      "metadata": {
        "colab": {
          "base_uri": "https://localhost:8080/"
        },
        "id": "Gq3vDgSTOCsI",
        "outputId": "9dbe2287-b914-4823-88c2-b0479c67a3fa"
      },
      "execution_count": null,
      "outputs": [
        {
          "output_type": "execute_result",
          "data": {
            "text/plain": [
              "1"
            ]
          },
          "metadata": {},
          "execution_count": 30
        }
      ]
    },
    {
      "cell_type": "code",
      "source": [
        "class Car():\n",
        "  def __init__(self,make,model,year):\n",
        "    self.make=make\n",
        "    self.model=model\n",
        "    self.year=year\n",
        "  def info(self):\n",
        "    print(\"The make of car is \",self.make)\n",
        "    print(\"The model of car is\",self.model)\n",
        "    print(\"The year of car is\" ,self.year)"
      ],
      "metadata": {
        "id": "6-xFpZ0qOIFq"
      },
      "execution_count": null,
      "outputs": []
    },
    {
      "cell_type": "code",
      "source": [
        "s1=Car(\"Toyota\",\"bermuda\",2021)\n",
        "s1.info()"
      ],
      "metadata": {
        "colab": {
          "base_uri": "https://localhost:8080/"
        },
        "id": "_tvMG9N7PINC",
        "outputId": "63122ef9-9dd4-4906-f8e9-b42b19e06832"
      },
      "execution_count": null,
      "outputs": [
        {
          "output_type": "stream",
          "name": "stdout",
          "text": [
            "The make of car is  Toyota\n",
            "The model of car is bermuda\n",
            "The year of car is 2021\n"
          ]
        }
      ]
    },
    {
      "cell_type": "code",
      "source": [
        "#Types of inheritance\n",
        "#1.Simple inheritance\n",
        "#2.Multiple inheritance\n",
        "#3.Multilevel inheritance\n",
        "#4.Hierarichal inheritance\n",
        "#5.Hybrid inheritance\n",
        "class A:#Example of multiple inheritance\n",
        "  def method1(self):\n",
        "    print(\"A\")\n",
        "class B:\n",
        "  def method2(self):\n",
        "    print(\"B\")\n",
        "class C(A,B):\n",
        "  def method(self):\n",
        "    print(\"C\")\n"
      ],
      "metadata": {
        "id": "6JG_RKSxSYPh"
      },
      "execution_count": null,
      "outputs": []
    },
    {
      "cell_type": "code",
      "source": [
        "c= C()\n",
        "c.method1()"
      ],
      "metadata": {
        "colab": {
          "base_uri": "https://localhost:8080/"
        },
        "id": "lvCh8tgknJAd",
        "outputId": "7f2754ed-6942-4046-8db4-a60b4da325e3"
      },
      "execution_count": null,
      "outputs": [
        {
          "output_type": "stream",
          "name": "stdout",
          "text": [
            "A\n"
          ]
        }
      ]
    },
    {
      "cell_type": "code",
      "source": [
        "c.method2()"
      ],
      "metadata": {
        "colab": {
          "base_uri": "https://localhost:8080/"
        },
        "id": "T6-pK5pwnfSy",
        "outputId": "3e3f92bd-00b8-41ec-ea50-8f0fc8ec1610"
      },
      "execution_count": null,
      "outputs": [
        {
          "output_type": "stream",
          "name": "stdout",
          "text": [
            "B\n"
          ]
        }
      ]
    },
    {
      "cell_type": "code",
      "source": [
        "c.method()"
      ],
      "metadata": {
        "colab": {
          "base_uri": "https://localhost:8080/"
        },
        "id": "fbGoptybnkmF",
        "outputId": "936b9003-5ab0-4f56-8e31-c16097e4afd7"
      },
      "execution_count": null,
      "outputs": [
        {
          "output_type": "stream",
          "name": "stdout",
          "text": [
            "C\n"
          ]
        }
      ]
    },
    {
      "cell_type": "code",
      "source": [
        "class Bank:\n",
        "  def __init__(self,balance):\n",
        "    self.balance=balance\n",
        "\n",
        "  def balance(self,amount):\n",
        "    self.balance=self.balance+amount\n",
        "\n",
        "  def withdraw(self,amount):\n",
        "    if self.balance > amount:\n",
        "        self.balance=self.balance-amount\n",
        "\n",
        "  def get_balance(self):\n",
        "    return self.balance"
      ],
      "metadata": {
        "id": "njzcZR8_n64m"
      },
      "execution_count": null,
      "outputs": []
    },
    {
      "cell_type": "code",
      "source": [
        "acc1 = Bank(1000)"
      ],
      "metadata": {
        "id": "KD9GvyAZp6Tu"
      },
      "execution_count": null,
      "outputs": []
    },
    {
      "cell_type": "code",
      "source": [
        "acc1.get_balance()"
      ],
      "metadata": {
        "colab": {
          "base_uri": "https://localhost:8080/"
        },
        "id": "9IqZ-Zyvp7KF",
        "outputId": "88762ee1-0cf0-4ec6-b5f3-0b8449ca44d2"
      },
      "execution_count": null,
      "outputs": [
        {
          "output_type": "execute_result",
          "data": {
            "text/plain": [
              "1000"
            ]
          },
          "metadata": {},
          "execution_count": 8
        }
      ]
    },
    {
      "cell_type": "code",
      "source": [
        "class Point:\n",
        "  def __init__(self,x,y):\n",
        "    self.x=x\n",
        "    self.y=y\n",
        "  def __add__(self,other):\n",
        "     if isinstance(other, Point):\n",
        "       return Point(self.x+other.x,self.y+other.y)\n",
        "  def __str__(self):\n",
        "    f\"Point({self.x}, {self.y})\""
      ],
      "metadata": {
        "id": "2_Z1fbjUqqzE"
      },
      "execution_count": null,
      "outputs": []
    },
    {
      "cell_type": "code",
      "source": [
        "p1=Point(10,2)\n",
        "p2=Point(8,6)\n",
        "p1+p2"
      ],
      "metadata": {
        "colab": {
          "base_uri": "https://localhost:8080/"
        },
        "id": "jGAVEdxarxuV",
        "outputId": "44263aa0-26a0-4219-9456-4f261ef12e6a"
      },
      "execution_count": null,
      "outputs": [
        {
          "output_type": "execute_result",
          "data": {
            "text/plain": [
              "<__main__.Point at 0x7e425c1c17b0>"
            ]
          },
          "metadata": {},
          "execution_count": 43
        }
      ]
    },
    {
      "cell_type": "code",
      "source": [],
      "metadata": {
        "colab": {
          "base_uri": "https://localhost:8080/",
          "height": 158
        },
        "id": "Ep21cfyerkKD",
        "outputId": "9cc88e1a-b1c4-4d31-b6d7-d667c4a9b179"
      },
      "execution_count": null,
      "outputs": [
        {
          "output_type": "error",
          "ename": "TypeError",
          "evalue": "__str__ returned non-string (type NoneType)",
          "traceback": [
            "\u001b[0;31m---------------------------------------------------------------------------\u001b[0m",
            "\u001b[0;31mTypeError\u001b[0m                                 Traceback (most recent call last)",
            "\u001b[0;32m<ipython-input-44-514a4dffce34>\u001b[0m in \u001b[0;36m<cell line: 2>\u001b[0;34m()\u001b[0m\n\u001b[1;32m      1\u001b[0m \u001b[0mresult\u001b[0m \u001b[0;34m=\u001b[0m \u001b[0mp1\u001b[0m \u001b[0;34m+\u001b[0m \u001b[0mp2\u001b[0m\u001b[0;34m\u001b[0m\u001b[0;34m\u001b[0m\u001b[0m\n\u001b[0;32m----> 2\u001b[0;31m \u001b[0mprint\u001b[0m\u001b[0;34m(\u001b[0m\u001b[0mresult\u001b[0m\u001b[0;34m)\u001b[0m\u001b[0;34m\u001b[0m\u001b[0;34m\u001b[0m\u001b[0m\n\u001b[0m",
            "\u001b[0;31mTypeError\u001b[0m: __str__ returned non-string (type NoneType)"
          ]
        }
      ]
    },
    {
      "cell_type": "code",
      "source": [],
      "metadata": {
        "id": "CZKWh2eutSMU"
      },
      "execution_count": null,
      "outputs": []
    },
    {
      "cell_type": "code",
      "source": [
        "import time\n",
        "def time_decorator(func):\n",
        "    def wrapper():\n",
        "        start_time = time.time()\n",
        "        func()\n",
        "        end_time = time.time()\n",
        "        print(f\"Execution time: {end_time - start_time} seconds\")\n",
        "    return wrapper"
      ],
      "metadata": {
        "id": "9pbInqH8tSFF"
      },
      "execution_count": null,
      "outputs": []
    },
    {
      "cell_type": "code",
      "source": [
        "@time_decorator\n",
        "def my_function():\n",
        "    print(1000000*122228)"
      ],
      "metadata": {
        "id": "Xk7aoiCTtyS7"
      },
      "execution_count": null,
      "outputs": []
    },
    {
      "cell_type": "code",
      "source": [
        "my_function()"
      ],
      "metadata": {
        "colab": {
          "base_uri": "https://localhost:8080/"
        },
        "id": "LvYfzSRouG24",
        "outputId": "8d3346a8-0777-4721-ecc7-bcf82f0c8533"
      },
      "execution_count": null,
      "outputs": [
        {
          "output_type": "stream",
          "name": "stdout",
          "text": [
            "122228000000\n",
            "Execution time: 0.0010890960693359375 seconds\n"
          ]
        }
      ]
    },
    {
      "cell_type": "code",
      "source": [
        "class Year:\n",
        "  @staticmethod\n",
        "  def leap_year(year):\n",
        "    if(year%4==0 and year %100 !=0) or (year%400==0):\n",
        "      return True\n",
        "    else:\n",
        "      return False"
      ],
      "metadata": {
        "id": "kyypdkIHuK1x"
      },
      "execution_count": null,
      "outputs": []
    },
    {
      "cell_type": "code",
      "source": [
        "n1=Year()\n",
        "n1.leap_year(2004)"
      ],
      "metadata": {
        "colab": {
          "base_uri": "https://localhost:8080/"
        },
        "id": "4o4yA1KrwO48",
        "outputId": "a3eb3b01-2fbf-4223-aede-aa70190d1366"
      },
      "execution_count": null,
      "outputs": [
        {
          "output_type": "execute_result",
          "data": {
            "text/plain": [
              "True"
            ]
          },
          "metadata": {},
          "execution_count": 31
        }
      ]
    }
  ]
}